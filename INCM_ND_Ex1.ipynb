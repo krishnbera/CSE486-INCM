{
  "nbformat": 4,
  "nbformat_minor": 0,
  "metadata": {
    "colab": {
      "name": "INCM_ND_Ex1.ipynb",
      "provenance": [],
      "collapsed_sections": [],
      "authorship_tag": "ABX9TyMNkpo6sAFCxSNIwmYx84ax",
      "include_colab_link": true
    },
    "kernelspec": {
      "name": "python3",
      "display_name": "Python 3"
    }
  },
  "cells": [
    {
      "cell_type": "markdown",
      "metadata": {
        "id": "view-in-github",
        "colab_type": "text"
      },
      "source": [
        "<a href=\"https://colab.research.google.com/github/krishnbera/CSE486-INCM/blob/master/INCM_ND_Ex1.ipynb\" target=\"_parent\"><img src=\"https://colab.research.google.com/assets/colab-badge.svg\" alt=\"Open In Colab\"/></a>"
      ]
    },
    {
      "cell_type": "code",
      "metadata": {
        "id": "tJDevKFGlpKj",
        "colab_type": "code",
        "colab": {},
        "cellView": "form"
      },
      "source": [
        "# @title Install required packages\n",
        "\n",
        "%%capture\n",
        "!pip3 install brian2\n",
        "!pip3 install --upgrade neurodynex3"
      ],
      "execution_count": null,
      "outputs": []
    },
    {
      "cell_type": "code",
      "metadata": {
        "id": "GNE8RCuul3AW",
        "colab_type": "code",
        "colab": {},
        "cellView": "form"
      },
      "source": [
        "# @title Import required packages, libraries\n",
        "\n",
        "%%capture\n",
        "%matplotlib inline\n",
        "import brian2 as b2\n",
        "import matplotlib.pyplot as plt\n",
        "import numpy as np\n",
        "from neurodynex3.leaky_integrate_and_fire import LIF\n",
        "from neurodynex3.tools import input_factory, plot_tools"
      ],
      "execution_count": null,
      "outputs": []
    },
    {
      "cell_type": "markdown",
      "metadata": {
        "id": "ZSCDzEJGTMJm",
        "colab_type": "text"
      },
      "source": [
        "##### Demo run of LIF neuron"
      ]
    },
    {
      "cell_type": "code",
      "metadata": {
        "id": "b2GsoAv-S809",
        "colab_type": "code",
        "colab": {}
      },
      "source": [
        "LIF.getting_started()"
      ],
      "execution_count": null,
      "outputs": []
    },
    {
      "cell_type": "markdown",
      "metadata": {
        "id": "hIhBL-LKTGGo",
        "colab_type": "text"
      },
      "source": [
        "##### Print default parameters of LIF neuron"
      ]
    },
    {
      "cell_type": "code",
      "metadata": {
        "id": "MNK1enZ3TEF7",
        "colab_type": "code",
        "colab": {}
      },
      "source": [
        "LIF.print_default_parameters()"
      ],
      "execution_count": null,
      "outputs": []
    },
    {
      "cell_type": "markdown",
      "metadata": {
        "id": "0RPfDxBSo_jt",
        "colab_type": "text"
      },
      "source": [
        "# Excercise 1.1 Minimal Current\n",
        "In the absence of an input current, a LIF neuron has a constant membrane voltage vm=v_rest. If an input current drives vm above the firing threshold, a spike is generated. Then, vm is reset to v_reset and the neuron ignores any input during the refractroy period."
      ]
    },
    {
      "cell_type": "markdown",
      "metadata": {
        "id": "RgBq2Jn5m-MN",
        "colab_type": "text"
      },
      "source": [
        "### [1.1.1] Question: minimal current (calculation)\n",
        "\n",
        "Question: Minimal Current (calculation)\n",
        "-\n",
        "The voltage equation is given as follows:\n",
        "\\begin{equation*}\n",
        "u(t) = u_{rest} + R I_{0} ( 1 - e^{-t/\\tau} )\n",
        "\\end{equation*}\n",
        "Making $I_0$ as subject, we get\n",
        "\\begin{equation*}\n",
        "I_{0} = \\frac{u(t) - u_{rest}}{R ( 1 - e^{-t/\\tau} )}\n",
        "\\end{equation*}"
      ]
    },
    {
      "cell_type": "code",
      "metadata": {
        "id": "vAtFjLr4nErN",
        "colab_type": "code",
        "colab": {}
      },
      "source": [
        "I_min = ??\n",
        "print(\"I_min is %s\" % (I_min))"
      ],
      "execution_count": null,
      "outputs": []
    },
    {
      "cell_type": "markdown",
      "metadata": {
        "id": "IrJjNF-UnLuf",
        "colab_type": "text"
      },
      "source": [
        "### [1.1.2] Question: minimal current (simulation)\n",
        "Use the value **i_min** you've computed and verify your result: inject a step current of amplitude i_min for 100ms into the LIF neuron and plot the membrane voltage. Vm should approach the firing threshold but *not* fire."
      ]
    },
    {
      "cell_type": "code",
      "metadata": {
        "id": "lxZARoCanNkz",
        "colab_type": "code",
        "colab": {}
      },
      "source": [
        "# create a step current with amplitude = I_min\n",
        "step_current = input_factory.get_step_current(\n",
        "    t_start=5, t_end=100, unit_time=b2.ms,\n",
        "    amplitude=I_min)  # set I_min to your value\n",
        "\n",
        "# run the LIF model.\n",
        "# Note: As we do not specify any model parameters, the simulation runs with the default values\n",
        "(state_monitor,spike_monitor) = LIF.simulate_LIF_neuron(input_current=step_current, simulation_time = 100 * b2.ms)\n",
        "\n",
        "# plot I and vm\n",
        "plot_tools.plot_voltage_and_current_traces(\n",
        "state_monitor, step_current, title=\"min input\", firing_threshold=LIF.FIRING_THRESHOLD)\n",
        "print(\"nr of spikes: {}\".format(spike_monitor.count[0]))  # should be 0"
      ],
      "execution_count": null,
      "outputs": []
    },
    {
      "cell_type": "markdown",
      "metadata": {
        "id": "TR3WAUI6pDu8",
        "colab_type": "text"
      },
      "source": [
        "# Excercise 1.2 f-I Curve\n",
        "For a constant input current I, a LIF neuron fires regularly with firing frequency f. If the current is to small (I < I_min) f is 0Hz; for larger I the rate increases. A neuron's firing-rate versus input-amplitude relationship is visualized in an \"f-I curve\".\n",
        "Question: f-I Curve and Refractoryness"
      ]
    },
    {
      "cell_type": "markdown",
      "metadata": {
        "id": "H9A7ses1qGGO",
        "colab_type": "text"
      },
      "source": [
        "### [1.2.1] Question: f-I Curve and refractoryness\n",
        "\n",
        "Question: f-I Curve and Refractoryness\n",
        "-\n",
        "We now study the f-I curve for a neuron with a refractory period of 3ms (see :func:`.LIF.simulate_LIF_neuron` to learn how to set a refractory period).\n",
        "<ol>\n",
        "<li>Sketch the f-I curve you expect to see</li>\n",
        "<li>What is the maximum rate at which this neuron can fire?</li>\n",
        "<li>Inject currents of different amplitudes (from 0nA to 100nA) into a LIF neuron. For each current, run the simulation for 500ms and determine the firing frequency in Hz. Then plot the f-I curve. Pay attention to the low input current.</li>\n",
        "</ol>\n"
      ]
    },
    {
      "cell_type": "code",
      "metadata": {
        "id": "d-Y_d4xApE-i",
        "colab_type": "code",
        "colab": {}
      },
      "source": [
        "f, I = list(), list(range(0, 101))\n",
        "for i in I:\n",
        "    step_current = input_factory.get_step_current(t_start=0, t_end=500, unit_time=b2.ms,amplitude=i * 1e-3 * b2.uamp)\n",
        "    (state_monitor,spike_monitor) = LIF.simulate_LIF_neuron(input_current=step_current, simulation_time = 500 * b2.ms, abs_refractory_period=3*b2.ms)\n",
        "    f.append(spike_monitor.count[0] / 0.5)\n",
        "plt.plot(I, f)\n",
        "plt.title('f-I Curve')\n",
        "plt.xlabel(\"Current\")\n",
        "plt.ylabel(\"Frequency\")\n",
        "plt.show()"
      ],
      "execution_count": null,
      "outputs": []
    },
    {
      "cell_type": "markdown",
      "metadata": {
        "id": "Dv1BR4gMroAg",
        "colab_type": "text"
      },
      "source": [
        "# Excercise 1.3 \"Experimentally\" estimate the parameters of a LIF neuron\n",
        "\n",
        "A LIF neuron is determined by the following parameters: Resting potential, Reset voltage, Firing threshold, Membrane resistance, Membrane time-scale, Absolute refractory period. By injecting a known test current into a LIF neuron (with unknown parameters), you can determine the neuron properties from the voltage response."
      ]
    },
    {
      "cell_type": "markdown",
      "metadata": {
        "id": "bZhB7JI7rqkE",
        "colab_type": "text"
      },
      "source": [
        "### [1.3.1] \"Read\" the LIF parameters out of the Vm plot\n",
        "\n",
        "<ol>\n",
        "<li>Get a random parameter set</li>\n",
        "<li>Create an input current of your choice.</li>\n",
        "<li>Simulate the LIF neuron using the random parameters and your test-current. Note that the simulation runs for a fixed duration of 50ms.</li>\n",
        "<li>Plot the membrane voltage and estimate the parameters. You do not have to write code to analyse the voltage data in the StateMonitor. Simply estimate the values from the plot. For the Membrane resistance and the Membrane time-scale you might have to change your current.</li>\n",
        "<li>Compare your estimates with the true values.</li>\n",
        "</ol>"
      ]
    },
    {
      "cell_type": "code",
      "metadata": {
        "id": "cYC3wihArpA3",
        "colab_type": "code",
        "colab": {}
      },
      "source": [
        "# get a random parameter. provide a random seed to have a reproducible experiment\n",
        "random_parameters = LIF.get_random_param_set(random_seed=432)\n",
        "\n",
        "# define your test current\n",
        "test_current = input_factory.get_step_current(t_start=5, t_end=45, unit_time=b2.ms, amplitude= 10 * b2.namp)\n",
        "\n",
        "# probe the neuron. pass the test current AND the random params to the function\n",
        "state_monitor, spike_monitor = LIF.simulate_random_neuron(test_current, random_parameters)\n",
        "\n",
        "# plot\n",
        "plot_tools.plot_voltage_and_current_traces(state_monitor, test_current, title=\"experiment\")\n",
        "plt.show()\n",
        "\n",
        "# print the parameters to the console and compare with your estimates\n",
        "print(\"LIF generated paratemers\")\n",
        "LIF.print_obfuscated_parameters(random_parameters)"
      ],
      "execution_count": null,
      "outputs": []
    },
    {
      "cell_type": "markdown",
      "metadata": {
        "id": "4RBcuf_0xPXQ",
        "colab_type": "text"
      },
      "source": [
        "We can determine $u_{rest}$, $V_{\\theta}$, $u_{reset}$ and $t_{refractory}$ from the graph.\n",
        "- $u_{rest}$ = -60 mV\n",
        "- $V_{\\theta}$ = -15 mv\n",
        "- $u_{reset}$ = -70 mV \n",
        "- $t_{refractory}$ = 2 ms\n",
        "\n",
        "To find the parameters of the model ($R$ and $\\tau$) we need two equations. Thus we compare the curves for two values of the current.\n",
        "- For $I_1$ = 14 nA the mebrane voltage increases from $u_{rest}$ to $V_{\\theta}$ in 10ms.\n",
        "- For $I_2$ = 8.6 nA, the membrane voltage increased from $u_{rest}$ to $V_{\\theta}$ in 20ms.\n",
        "\n",
        "Thus using the equation stated earlier, we have\n",
        "$$\n",
        "V_{\\theta} = u_{rest} + RI_1 (1 - e ^ {\\frac{-10}{\\tau}}) = u_{rest} + RI_2 (1 - e ^ {\\frac{-20}{\\tau}})\n",
        "$$\n",
        "\n",
        "On solving, we get $ e ^ {\\frac{-10}{\\tau}}$ = 0.628 or 1.\n",
        "\n",
        "Now we solve for $R$ and $\\tau$."
      ]
    },
    {
      "cell_type": "markdown",
      "metadata": {
        "id": "NUvjO4pQyQ08",
        "colab_type": "text"
      },
      "source": [
        "# Excercise 1.4: Sinusoidal input current and subthreshold response\n",
        "\n",
        "In the subthreshold regime (no spike), the LIF neuron is a linear system and the membrane voltage is a filtered version of the input current. In this exercise we study the properties of this linear system when it gets a sinusoidal stimulus."
      ]
    },
    {
      "cell_type": "markdown",
      "metadata": {
        "id": "CwppwdY9yQ4c",
        "colab_type": "text"
      },
      "source": [
        "### [1.4.1] Sinusoidal input current\n",
        "\n",
        "Question\n",
        "-\n",
        "Create a sinusoidal input current (see example below) and inject it into the LIF neuron. Determine the phase and amplitude of the membrane voltage.\n",
        "We have the differential equation\n",
        "\\begin{equation*}\n",
        "\\tau \\frac{du}{dt} = -(u - u_{rest}) + R I(t)\n",
        "\\end{equation*}\n",
        "where \\begin{equation*}\n",
        "I(t) = I sin(\\omega t)\n",
        "\\end{equation*}"
      ]
    },
    {
      "cell_type": "code",
      "metadata": {
        "id": "fKbvC7gXyRGx",
        "colab_type": "code",
        "colab": {}
      },
      "source": [
        "# note the higher resolution when discretizing the sine wave: we specify unit_time=0.1 * b2.ms\n",
        "sinusoidal_current = input_factory.get_sinusoidal_current(200, 1000, unit_time=0.1 * b2.ms, amplitude= 2.5 * b2.namp, frequency=250*b2.Hz, direct_current=0. * b2.namp)\n",
        "\n",
        "# run the LIF model. By setting the firing threshold to to a high value, we make sure to stay in the linear (non spiking) regime.\n",
        "(state_monitor, spike_monitor) = LIF.simulate_LIF_neuron(input_current=sinusoidal_current, simulation_time = 120 * b2.ms, firing_threshold=0*b2.mV)\n",
        "\n",
        "# plot the membrane voltage\n",
        "plot_tools.plot_voltage_and_current_traces(state_monitor, sinusoidal_current, title=\"Sinusoidal input current\")\n",
        "print(\"nr of spikes: {}\".format(spike_monitor.count[0]))"
      ],
      "execution_count": null,
      "outputs": []
    },
    {
      "cell_type": "markdown",
      "metadata": {
        "id": "sciB_QIqMJBm",
        "colab_type": "text"
      },
      "source": [
        "### [1.4.2] Question\n",
        "For input frequencies between 10Hz and 1 kHz, plot the resulting amplitude of subthreshold oscillations of the membrane potential vs. input frequency.\n",
        "\n",
        "### [1.4.3] Question\n",
        "For input frequencies between 10Hz and 1 kHz, plot the resulting phase shift of subthreshold oscillations of the membrane potential vs. input frequency.\n",
        "\n",
        "### [1.4.4] Question\n",
        "To what type of filter (High-Pass, Low-Pass) does this correspond to?"
      ]
    },
    {
      "cell_type": "code",
      "metadata": {
        "id": "Ny0Z6z0hN4s5",
        "colab_type": "code",
        "colab": {}
      },
      "source": [
        ""
      ],
      "execution_count": null,
      "outputs": []
    }
  ]
}